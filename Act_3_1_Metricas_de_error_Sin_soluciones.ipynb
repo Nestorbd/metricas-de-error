{
  "cells": [
    {
      "cell_type": "markdown",
      "metadata": {},
      "source": [
        "![enter image description here](https://img.shields.io/badge/Author-Nestor_Batista_Díaz-yellow)"
      ]
    },
    {
      "cell_type": "markdown",
      "metadata": {
        "id": "irnc2RYVuYVU"
      },
      "source": [
        "23_24\n",
        "\n",
        "Actividad 3.1 - Métricas de error para los problemas de regresión\n",
        "\n",
        "A partir de los ejemplos indicados realizar los ejercicios propuestos"
      ]
    },
    {
      "cell_type": "code",
      "execution_count": 1,
      "metadata": {
        "colab": {
          "base_uri": "https://localhost:8080/"
        },
        "id": "jVLFdfzxdsfG",
        "outputId": "2b226cd1-8d32-49ff-a13f-7ef95466c4ed"
      },
      "outputs": [
        {
          "data": {
            "text/plain": [
              "0.0"
            ]
          },
          "execution_count": 1,
          "metadata": {},
          "output_type": "execute_result"
        }
      ],
      "source": [
        "#Error absoluto medio - mae\n",
        "from sklearn.metrics import mean_absolute_error\n",
        "# Ejemplo 1\n",
        "y_true = [2.5, 0, 2, 8]\n",
        "y_pred = [2.5, 0, 2, 8]\n",
        "mean_absolute_error(y_true, y_pred)\n"
      ]
    },
    {
      "cell_type": "code",
      "execution_count": 2,
      "metadata": {
        "id": "67XK1bXegMai"
      },
      "outputs": [
        {
          "name": "stdout",
          "output_type": "stream",
          "text": [
            "MAE para error 0:  0.0\n",
            "MAE para error 0.25:  0.25\n"
          ]
        }
      ],
      "source": [
        "# Ejer 1: Crear dos vectores/arrays de valores ciertos y valores previstos, y calcular el mae.\n",
        "# ¿Qué valores deberían de tener el array pred para que el error fuese 0? ¿y para que error fuese de 0.25?\n",
        "\n",
        "# Para que el error fuese 0 los valores tienen que ser identicos\n",
        "y_true_error_0 = [3, 7, 1, 5]\n",
        "y_pred_error_0 = [3, 7, 1, 5]\n",
        "error0 = mean_absolute_error(y_true_error_0, y_pred_error_0)\n",
        "\n",
        "# Para que el error fuese de 0.25 el promedio de la diferencia absoluta tiene que ser de 0.25\n",
        "y_true_error_025  = [3, 7, 1, 5]\n",
        "y_pred_error_025  = [3.25, 7.25, 1.25, 5.25]\n",
        "error025 = mean_absolute_error(y_true_error_025, y_pred_error_025)\n",
        "\n",
        "print(f\"MAE para error 0: \",error0)\n",
        "print(f\"MAE para error 0.25: \",error025)"
      ]
    },
    {
      "cell_type": "code",
      "execution_count": 3,
      "metadata": {
        "colab": {
          "base_uri": "https://localhost:8080/"
        },
        "id": "3LhzsD30f60T",
        "outputId": "982b9c64-c017-4cb3-b4e7-9f8113937619"
      },
      "outputs": [
        {
          "data": {
            "text/plain": [
              "0.75"
            ]
          },
          "execution_count": 3,
          "metadata": {},
          "output_type": "execute_result"
        }
      ],
      "source": [
        "# Ejemplo 2\n",
        "y_true = [[0.5, 1], [-1, 1], [7, -6]]\n",
        "y_pred = [[0, 2], [-1, 2], [8, -5]]\n",
        "mean_absolute_error(y_true, y_pred)"
      ]
    },
    {
      "cell_type": "code",
      "execution_count": 4,
      "metadata": {
        "id": "LnPx6A4Astfq"
      },
      "outputs": [
        {
          "name": "stdout",
          "output_type": "stream",
          "text": [
            "MAE para error 0:  0.0\n",
            "MAE para error 0.33:  0.33\n"
          ]
        }
      ],
      "source": [
        "# Ejer 2: Crear dos matrices/arrays de valores ciertos y valores previstos, y calcular el mae.\n",
        "# ¿Qué valores deberían de tener el array pred para que el error fuese 0? ¿y para que error fuese de 0.33?\n",
        "\n",
        "# El razonamineto es el mismo que en el ejercicio 1 pero esta vez aplicado a matrices\n",
        "y_true_error_0 = [[2, 3], [-1, 7], [7, -6]]\n",
        "y_pred_error_0 = [[2, 3], [-1, 7], [7, -6]]\n",
        "error0 = mean_absolute_error(y_true_error_0, y_pred_error_0)\n",
        "\n",
        "y_true_error_033 = [[2, 3], [-1, 7], [7, -6]]\n",
        "y_pred_error_033 = [[2.33, 3.33], [-1.33, 7.33], [7.33, -6.33]]\n",
        "error033 = mean_absolute_error(y_true_error_033, y_pred_error_033)\n",
        "\n",
        "print(f\"MAE para error 0: \",error0)\n",
        "print(f\"MAE para error 0.33: \",round(error033,2))\n"
      ]
    },
    {
      "cell_type": "code",
      "execution_count": 5,
      "metadata": {
        "colab": {
          "base_uri": "https://localhost:8080/"
        },
        "id": "59efr-GWgKP6",
        "outputId": "ae6b9c8b-b5ab-4ad1-ee9f-f3b2d2fa70d1"
      },
      "outputs": [
        {
          "data": {
            "text/plain": [
              "0.375"
            ]
          },
          "execution_count": 5,
          "metadata": {},
          "output_type": "execute_result"
        }
      ],
      "source": [
        "# Error cuadrático medio - mse\n",
        "from sklearn.metrics import mean_squared_error\n",
        "y_true = [3, -0.5, 2, 7]\n",
        "y_pred = [2.5, 0.0, 2, 8]\n",
        "mean_squared_error(y_true, y_pred)\n"
      ]
    },
    {
      "cell_type": "code",
      "execution_count": 6,
      "metadata": {
        "id": "FLZt6j17u7sE"
      },
      "outputs": [
        {
          "name": "stdout",
          "output_type": "stream",
          "text": [
            "MSE para error 0:  0.0\n",
            "MSE para error 0.25:  0.25\n"
          ]
        }
      ],
      "source": [
        "# Ejer 3: Crear dos vectores/arrays de valores ciertos y valores previstos, y calcular el mse.\n",
        "# ¿Qué valores deberían de tener el array pred para que el error fuese 0? ¿y para que error fuese de 0.25?\n",
        "# Nota: Es muy interesante comparar los resultados al aplicaer mae y mse sobre el mismo conjunto de datos. Podrás obervar\n",
        "#       que mse \"penaliza más\" (es decir, el número que se obtiene es mayor) con las diferencias entre los valores originales \n",
        "# y los predichos que mae\n",
        "\n",
        "# Para que el error fuese 0 los valores tienen que ser identicos\n",
        "y_true_error_0 = [3, 7, 1, 5]\n",
        "y_pred_error_0 = [3, 7, 1, 5]\n",
        "error0 = mean_squared_error(y_true_error_0, y_pred_error_0)\n",
        "\n",
        "# Para que el error fuese de 0.25 el promedio de la diferencia al cuadrado tiene que ser de 0.25\n",
        "y_true_error_025  = [3, 7, 1, 5]\n",
        "y_pred_error_025  = [3.50, 7.50, 1.50, 5.50]\n",
        "error025 = mean_squared_error(y_true_error_025, y_pred_error_025)\n",
        "\n",
        "print(f\"MSE para error 0: \",error0)\n",
        "print(f\"MSE para error 0.25: \",error025)"
      ]
    },
    {
      "cell_type": "code",
      "execution_count": 7,
      "metadata": {
        "id": "M9nZd4nLvIRB"
      },
      "outputs": [
        {
          "name": "stdout",
          "output_type": "stream",
          "text": [
            "MSE para error 0:  0.0\n",
            "MSE para error 0.33:  0.33\n"
          ]
        }
      ],
      "source": [
        "# Ejer 4: Crear dos matrices/arrays de valores ciertos y valores previstos, y calcular el mse.\n",
        "# ¿Qué valores deberían de tener el array pred para que el error fuese 0? ¿y para que error fuese de 0.33?\n",
        "\n",
        "# El razonamineto es el mismo que en el ejercicio 3 pero esta vez aplicado a matrices\n",
        "y_true_error_0 = [[2, 3], [-1, 7], [7, -6]]\n",
        "y_pred_error_0 = [[2, 3], [-1, 7], [7, -6]]\n",
        "error0 = mean_squared_error(y_true_error_0, y_pred_error_0)\n",
        "\n",
        "y_true_error_033 = [[2, 3], [-1, 7], [7, -6]]\n",
        "y_pred_error_033 = [[2.58, 3.57], [-1.58, 7.57], [7.58, -6.57]]\n",
        "error033 = mean_squared_error(y_true_error_033, y_pred_error_033)\n",
        "\n",
        "print(f\"MSE para error 0: \",error0)\n",
        "print(f\"MSE para error 0.33: \",round(error033,2))\n"
      ]
    },
    {
      "cell_type": "code",
      "execution_count": 8,
      "metadata": {
        "colab": {
          "base_uri": "https://localhost:8080/"
        },
        "id": "0j3DDJPnBTmF",
        "outputId": "15363258-5e69-496a-fc26-5ccaa583dee4"
      },
      "outputs": [
        {
          "data": {
            "text/plain": [
              "0.3273809523809524"
            ]
          },
          "execution_count": 8,
          "metadata": {},
          "output_type": "execute_result"
        }
      ],
      "source": [
        "# Error de porcentaje absoluto medio - mape\n",
        "from sklearn.metrics import mean_absolute_percentage_error\n",
        "y_true = [3, -0.5, 2, 7]\n",
        "y_pred = [2.5, 0.0, 2, 8]\n",
        "mean_absolute_percentage_error(y_true, y_pred)"
      ]
    },
    {
      "cell_type": "code",
      "execution_count": 9,
      "metadata": {
        "id": "0vsYXdRqB0TE"
      },
      "outputs": [
        {
          "name": "stdout",
          "output_type": "stream",
          "text": [
            "MAPE para error 0:  0.0\n"
          ]
        }
      ],
      "source": [
        "# Ejer 5: Crear dos vectores/arrays de valores ciertos y valores previstos, y calcular el mape.\n",
        "# ¿Qué valores deberían de tener el array pred para que el error fuese 0?\n",
        "\n",
        "# Para que el error fuese 0 los valores tienen que ser identicos\n",
        "y_true = [3, -0.5, 2, 7]\n",
        "y_pred = [3, -0.5, 2, 7]\n",
        "error0 = mean_absolute_percentage_error(y_true, y_pred)\n",
        "\n",
        "print(f\"MAPE para error 0: \",error0)"
      ]
    },
    {
      "cell_type": "code",
      "execution_count": 10,
      "metadata": {
        "id": "085pmFVO-cA3"
      },
      "outputs": [
        {
          "name": "stdout",
          "output_type": "stream",
          "text": [
            "MAPE para error 0:  0.0\n"
          ]
        }
      ],
      "source": [
        "# Ejer 6: Crear dos matrices/arrays de valores ciertos y valores previstos, y calcular el MAPE.\n",
        "# ¿Qué valores deberían de tener el array pred para que el error fuese 0?\n",
        "\n",
        "# Para que el error fuese 0 los valores tienen que ser identicos\n",
        "y_true_error_0 = [[2, 3], [-1, 7], [7, -6]]\n",
        "y_pred_error_0 = [[2, 3], [-1, 7], [7, -6]]\n",
        "error0 = mean_absolute_percentage_error(y_true_error_0, y_pred_error_0)\n",
        "\n",
        "print(f\"MAPE para error 0: \",error0)"
      ]
    }
  ],
  "metadata": {
    "colab": {
      "provenance": []
    },
    "kernelspec": {
      "display_name": "Python 3",
      "name": "python3"
    },
    "language_info": {
      "codemirror_mode": {
        "name": "ipython",
        "version": 3
      },
      "file_extension": ".py",
      "mimetype": "text/x-python",
      "name": "python",
      "nbconvert_exporter": "python",
      "pygments_lexer": "ipython3",
      "version": "3.11.5"
    }
  },
  "nbformat": 4,
  "nbformat_minor": 0
}
